{
  "nbformat": 4,
  "nbformat_minor": 0,
  "metadata": {
    "anaconda-cloud": {},
    "kernelspec": {
      "display_name": "Python [conda root]",
      "language": "python",
      "name": "conda-root-py"
    },
    "language_info": {
      "codemirror_mode": {
        "name": "ipython",
        "version": 3
      },
      "file_extension": ".py",
      "mimetype": "text/x-python",
      "name": "python",
      "nbconvert_exporter": "python",
      "pygments_lexer": "ipython3",
      "version": "3.5.1"
    },
    "colab": {
      "name": "project1.ipynb",
      "provenance": []
    }
  },
  "cells": [
    {
      "cell_type": "code",
      "metadata": {
        "collapsed": true,
        "id": "CxIiNg4f8Kyg"
      },
      "source": [
        "# Useful starting lines\n",
        "%matplotlib inline\n",
        "import numpy as np\n",
        "import matplotlib.pyplot as plt\n",
        "%load_ext autoreload\n",
        "%autoreload 2"
      ],
      "execution_count": 2,
      "outputs": []
    },
    {
      "cell_type": "code",
      "metadata": {
        "id": "2AovKPJy-Tyk"
      },
      "source": [
        "# from google.colab import drive\n",
        "# drive.mount('/content/drive')\n",
        "# import sys\n",
        "# sys.path.append('/content/drive/MyDrive/ML')"
      ],
      "execution_count": 4,
      "outputs": []
    },
    {
      "cell_type": "code",
      "metadata": {
        "id": "891rIai96itb",
        "outputId": "78abf6a4-a0fe-4b40-ee8f-1a49c89f6b41",
        "colab": {
          "base_uri": "https://localhost:8080/"
        }
      },
      "source": [
        "!rm -r ml-proj1\n",
        "!git clone https://github.com/Pin-Yen/ml-proj1\n"
      ],
      "execution_count": 16,
      "outputs": [
        {
          "output_type": "stream",
          "name": "stdout",
          "text": [
            "Cloning into 'ml-proj1'...\n",
            "remote: Enumerating objects: 10, done.\u001b[K\n",
            "remote: Counting objects: 100% (10/10), done.\u001b[K\n",
            "remote: Compressing objects: 100% (8/8), done.\u001b[K\n",
            "remote: Total 10 (delta 2), reused 10 (delta 2), pack-reused 0\u001b[K\n",
            "Unpacking objects: 100% (10/10), done.\n"
          ]
        }
      ]
    },
    {
      "cell_type": "code",
      "metadata": {
        "id": "UDKS87zrbbvX"
      },
      "source": [
        "import sys\n",
        "sys.path.append('/content/ml-proj1')"
      ],
      "execution_count": 11,
      "outputs": []
    },
    {
      "cell_type": "markdown",
      "metadata": {
        "id": "v9HsqJO38Kyh"
      },
      "source": [
        "## Load the training data into feature matrix, class labels, and event ids:"
      ]
    },
    {
      "cell_type": "code",
      "metadata": {
        "colab": {
          "base_uri": "https://localhost:8080/"
        },
        "id": "Lc8YT2em8Kyi",
        "outputId": "e29f8f47-71b5-454a-a385-1f32d10ead18"
      },
      "source": [
        "from proj1_helpers import *\n",
        "DATA_TRAIN_PATH = '/content/ml-proj1/train.csv' # TODO: download train data and supply path here \n",
        "y, tX, ids = load_csv_data(DATA_TRAIN_PATH)\n",
        "print(y.shape, tX.shape, ids.shape)\n",
        "\n",
        "# standardize \n",
        "tX = (tX - np.mean(tX, axis=0)) / np.std(tX, axis=0)\n",
        "\n",
        "# split into training set (80%) & validation set (20%)\n",
        "tX_train, tX_val, y_train, y_val = split_data(tX, y, ratio=0.8)\n",
        "# y_val, tX_val, ids_val = y[200000:], tX[200000:], ids[200000:]\n",
        "# y_train, tX_train, ids_train = y[:200000], tX[:200000], ids[:200000]\n",
        "\n"
      ],
      "execution_count": 29,
      "outputs": [
        {
          "output_type": "stream",
          "name": "stdout",
          "text": [
            "(250000,) (250000, 30) (250000,)\n"
          ]
        }
      ]
    },
    {
      "cell_type": "markdown",
      "metadata": {
        "id": "8HVbtMpGfObj"
      },
      "source": [
        "## Stochastic gradient descent with MSE"
      ]
    },
    {
      "cell_type": "code",
      "metadata": {
        "id": "AR_Vk7ds1ZKp"
      },
      "source": [
        "from sgd import *\n",
        "\n",
        "w = np.zeros(tX.shape[1])\n",
        "losses, accurarcies, ws = [], [], []\n",
        "\n",
        "for i in range(5):\n",
        "  losses_epoch, ws_epoch = stochastic_gradient_descent(y_train, tX_train, w, 256, 781, 0.05)\n",
        "  losses += losses_epoch\n",
        "  ws += ws_epoch\n",
        "  w = ws[-1]\n"
      ],
      "execution_count": 30,
      "outputs": []
    },
    {
      "cell_type": "markdown",
      "metadata": {
        "id": "vLwy5Pyb98Dd"
      },
      "source": [
        "### Plot training loss"
      ]
    },
    {
      "cell_type": "code",
      "metadata": {
        "id": "HrIc3xa7-E7Z",
        "colab": {
          "base_uri": "https://localhost:8080/",
          "height": 265
        },
        "outputId": "bb73378c-6b49-4b97-c16e-7b895012f595"
      },
      "source": [
        "import matplotlib.pyplot as plt\n",
        "from costs import compute_mse\n",
        "\n",
        "plt.plot(range(len(losses)), losses, label='training')\n",
        "\n",
        "losses_val = [compute_mse(y_val, tX_val, w) for w in ws]\n",
        "plt.plot(range(len(losses_val)), losses_val, label='validation')\n",
        "\n",
        "plt.legend()\n",
        "plt.show()"
      ],
      "execution_count": 33,
      "outputs": [
        {
          "output_type": "display_data",
          "data": {
            "image/png": "[encoded data removed]",
            "text/plain": [
              "<Figure size 432x288 with 1 Axes>"
            ]
          },
          "metadata": {
            "needs_background": "light"
          }
        }
      ]
    },
    {
      "cell_type": "code",
      "metadata": {
        "id": "7rekWgAVAMXt",
        "colab": {
          "base_uri": "https://localhost:8080/",
          "height": 265
        },
        "outputId": "82e5aa30-458c-48d5-b9da-5ce3b2660296"
      },
      "source": [
        "def accurarcy(y, y_pred):\n",
        "    return (y == y_pred).mean()\n",
        "\n",
        "\n",
        "\n",
        "accurarcies_val = [accurarcy(y_val, predict_labels(w, tX_val)) for w in ws]\n",
        "plt.plot(range(len(ws)), accurarcies_val, label='validation')\n",
        "accurarcies_train = [accurarcy(y_train, predict_labels(w, tX_train)) for w in ws]\n",
        "plt.plot(range(len(ws)), accurarcies_train, label='training')\n",
        "\n",
        "plt.legend()\n",
        "plt.show()\n"
      ],
      "execution_count": 35,
      "outputs": [
        {
          "output_type": "display_data",
          "data": {
            "image/png": "[encoded data removed]",
            "text/plain": [
              "<Figure size 432x288 with 1 Axes>"
            ]
          },
          "metadata": {
            "needs_background": "light"
          }
        }
      ]
    },
    {
      "cell_type": "markdown",
      "metadata": {
        "id": "Lwx3MPot8Kyj"
      },
      "source": [
        "## Generate predictions and save ouput in csv format for submission:"
      ]
    },
    {
      "cell_type": "code",
      "metadata": {
        "id": "9InXs_4_8Kyj"
      },
      "source": [
        "DATA_TEST_PATH = '' # TODO: download train data and supply path here \n",
        "_, tX_test, ids_test = load_csv_data(DATA_TEST_PATH)"
      ],
      "execution_count": null,
      "outputs": []
    },
    {
      "cell_type": "code",
      "metadata": {
        "id": "bde03W8v8Kyk"
      },
      "source": [
        "OUTPUT_PATH = '' # TODO: fill in desired name of output file for submission\n",
        "y_pred = predict_labels(weights, tX_test)\n",
        "create_csv_submission(ids_test, y_pred, OUTPUT_PATH)"
      ],
      "execution_count": null,
      "outputs": []
    },
    {
      "cell_type": "code",
      "metadata": {
        "collapsed": true,
        "id": "6dVYpF9Q8Kyk"
      },
      "source": [
        ""
      ],
      "execution_count": null,
      "outputs": []
    }
  ]
}